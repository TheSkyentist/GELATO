{
 "cells": [
  {
   "cell_type": "markdown",
   "id": "115b33fe",
   "metadata": {},
   "source": [
    "This is an example Jupyter notebook on using GELATO.\n",
    "----------------\n",
    "\n",
    "First let's import the packages we will need."
   ]
  },
  {
   "cell_type": "code",
   "execution_count": null,
   "id": "54f68d58",
   "metadata": {},
   "outputs": [],
   "source": [
    "# Import packages\n",
    "import gelato\n",
    "import numpy as np\n",
    "%matplotlib inline\n",
    "import matplotlib\n",
    "mpl.rcParams['font.size'] = 25\n",
    "from matplotlib import pyplot # For plotting\n",
    "# For loading in data\n",
    "from astropy.io import fits\n",
    "from astropy.table import Table "
   ]
  },
  {
   "cell_type": "markdown",
   "id": "617629da",
   "metadata": {},
   "source": [
    "We're going to be running our example on the SDSS spectrum, spec-0280-51612-0117.fits, which has a redshift of 0.245. "
   ]
  },
  {
   "cell_type": "code",
   "execution_count": null,
   "id": "91d72d8a",
   "metadata": {},
   "outputs": [],
   "source": [
    "# Let's load the spectrum\n",
    "path_spec = 'Spectra/spec-0280-51612-0117.fits'\n",
    "spectrum = Table.read(path_spec)\n",
    "\n",
    "# Start with inverse variance\n",
    "ivar = spectrum['ivar']\n",
    "good = ivar > 0 # GELATO only looks at points with nonzero weights\n",
    "\n",
    "# Finally, let's load in the data\n",
    "wavl = 10**spectrum['loglam'][good]\n",
    "flux = spectrum['flux'][good]\n",
    "ivar = ivar[good]\n",
    "args = (wavl,flux,ivar) # These will be useful later"
   ]
  },
  {
   "cell_type": "markdown",
   "id": "ef6ac810",
   "metadata": {},
   "source": [
    "Let's go ahead and plot our spectrum to get an idea of what we're dealing with."
   ]
  },
  {
   "cell_type": "code",
   "execution_count": null,
   "id": "ff0fd13b",
   "metadata": {
    "scrolled": false
   },
   "outputs": [],
   "source": [
    "# Create figure\n",
    "fig, ax = pyplot.subplots(figsize=(15,7))\n",
    "\n",
    "# Plot Spectrum\n",
    "sig = 3/np.sqrt(ivar) # 3 Sigma boundary\n",
    "ax.fill_between(wavl,flux-sig,flux+sig,color='gray')\n",
    "ax.step(wavl,flux,where='mid',c='k',lw=0.5)\n",
    "\n",
    "# Axis limits\n",
    "ax.set(xlim=[wavl.min(),wavl.max()],ylim=[0,flux.max()])\n",
    "\n",
    "# Axis labels\n",
    "ax.set(xlabel=r'Obs. Wavelength [\\AA]',ylabel=r'$F_\\lambda$')\n",
    "\n",
    "# Show figure\n",
    "pyplot.show()"
   ]
  },
  {
   "cell_type": "markdown",
   "id": "4aaffa71",
   "metadata": {},
   "source": [
    "The main gelato function takes three inputs.\n",
    "* The path to the parameters file or the parameters dictionary.\n",
    "* The path to the spectrum.\n",
    "* The redshift of the spectrum.\n",
    "\n",
    "We already have the last two, and we need to take a little precaution with the first.\n",
    "The main gelato function will only return the final model if the code is being run without multiprocessing (as the return statement can break Python multiprocessing). So we can either change the Parameters JSON file, or edit the parameters dictionary. "
   ]
  },
  {
   "cell_type": "code",
   "execution_count": null,
   "id": "e8ad5e9b",
   "metadata": {},
   "outputs": [],
   "source": [
    "# Path to the parameters file\n",
    "path_params = './ExampleParameters.json'\n",
    "\n",
    "# Create Parameters dictionary\n",
    "params = gelato.ConstructParams.construct(path_params)\n",
    "\n",
    "# Set to not multiprocessing\n",
    "params['NProcess'] = 1"
   ]
  },
  {
   "cell_type": "markdown",
   "id": "a55b5373",
   "metadata": {},
   "source": [
    "We are now ready to run GELATO. Note, before you do this, ensure the results directory exists, either by running the Example from the README file or creating it. It will return the final callable model, however it won't be used in this notebook. "
   ]
  },
  {
   "cell_type": "code",
   "execution_count": null,
   "id": "59bbef2b",
   "metadata": {
    "scrolled": false
   },
   "outputs": [],
   "source": [
    "model = gelato.gelato(params,path_spec,0.245)"
   ]
  },
  {
   "cell_type": "markdown",
   "id": "d9ee2209",
   "metadata": {},
   "source": [
    "The results have been saved to the \"Results/\" Directory. Let's go ahead and load them in. We will print all extensions on the folder."
   ]
  },
  {
   "cell_type": "code",
   "execution_count": null,
   "id": "0815df14",
   "metadata": {
    "scrolled": true
   },
   "outputs": [],
   "source": [
    "# Load in results\n",
    "results = fits.open('Results/spec-0280-51612-0117-results.fits')\n",
    "\n",
    "# Print FITS extensions\n",
    "results.info()"
   ]
  },
  {
   "cell_type": "markdown",
   "id": "ef7bdfdb",
   "metadata": {},
   "source": [
    "We have two FITS extensions, SUMMARY and PARAMS. They are described in more detail in the README File but let's play around with them directly. Let's go ahead and take a look inside the SUMMARY extension. As we can see, it is a binary FITS Table."
   ]
  },
  {
   "cell_type": "code",
   "execution_count": null,
   "id": "aa5d5647",
   "metadata": {
    "scrolled": false
   },
   "outputs": [],
   "source": [
    "summary = Table(results['SUMMARY'].data)\n",
    "summary"
   ]
  },
  {
   "cell_type": "markdown",
   "id": "ff74199d",
   "metadata": {},
   "source": [
    "In this table, we have the original spectrum along with the various model components, we can go ahead and plot them."
   ]
  },
  {
   "cell_type": "code",
   "execution_count": null,
   "id": "dcd1823b",
   "metadata": {},
   "outputs": [],
   "source": [
    "# Create figure\n",
    "fig, ax = pyplot.subplots(figsize=(15,7))\n",
    "\n",
    "# Plot Spectrum\n",
    "ax.fill_between(wavl,flux-sig,flux+sig,color='gray')\n",
    "ax.step(wavl,flux,where='mid',c='k',lw=0.5,label='Data')\n",
    "ax.step(10**summary['loglam'],summary['MODEL'],where='mid',c='r',label='Total Model')\n",
    "ax.step(10**summary['loglam'],summary['SSP'],where='mid',c='g',label='SSP Cont.')\n",
    "ax.step(10**summary['loglam'],summary['PL'],where='mid',c='b',label='Power-Law Cont.')\n",
    "ax.step(10**summary['loglam'],summary['LINE'],where='mid',c='y',label='Emission Lines')\n",
    "ax.legend()\n",
    "\n",
    "# Axis limits\n",
    "ax.set(xlim=[wavl.min(),wavl.max()],ylim=[0,flux.max()])\n",
    "\n",
    "# Axis labels\n",
    "ax.set(xlabel=r'Obs. Wavelength [\\AA]',ylabel=r'$F_\\lambda$')\n",
    "\n",
    "# Show figure\n",
    "pyplot.show()"
   ]
  },
  {
   "cell_type": "markdown",
   "id": "d7a3e294",
   "metadata": {},
   "source": [
    "Looks great! You can see an example of the GELATO generated plots in the results folder, but this will let you incorporate GELATO fits easily into your own work. Let's go ahead and take a look at the PARAMS extension. This is a much larger table! It's made up of the parameters from each bootstrap iteration. "
   ]
  },
  {
   "cell_type": "code",
   "execution_count": null,
   "id": "80356c36",
   "metadata": {
    "scrolled": false
   },
   "outputs": [],
   "source": [
    "# Open Parameters extension\n",
    "params = Table(results['PARAMS'].data)\n",
    "print(params)\n",
    "params.colnames"
   ]
  },
  {
   "cell_type": "markdown",
   "id": "69f1147e",
   "metadata": {},
   "source": [
    "Here we can see all of the fitted model paramters, it's certainly a handful! A quick note, many parameters here are tied together, reducing the degrees of freedom. It's also worth noting the SSP Continuum Redshift and the PL Continuum Scale are not fitted, and so are constant throughout all the bootstraps. Let's go ahead and throw this object onto a BPT diagram!"
   ]
  },
  {
   "cell_type": "code",
   "execution_count": null,
   "id": "48f94a7f",
   "metadata": {},
   "outputs": [],
   "source": [
    "# Get BPT line fluxes\n",
    "oiii = params['AGN_[OIII]_5006.84_Flux']\n",
    "nii = params['AGN_[NII]_6583.45_Flux']\n",
    "ha = params['Balmer_HI_4861.28_Flux']\n",
    "hb = params['Balmer_HI_6562.79_Flux']\n",
    "\n",
    "# Create figure\n",
    "fig, ax = pyplot.subplots(figsize=(10,10))\n",
    "\n",
    "# Kewley+ Line\n",
    "x = np.logspace(-1.5,0.05,100)\n",
    "y = 10**(0.61/(np.log10(x) - 0.05) + 1.3)\n",
    "ax.plot(x,y,color='gray',ls='--',label='Kauffman+03')\n",
    "\n",
    "# Kauffman+ Line\n",
    "x = np.logspace(-1.5,0.47,100)\n",
    "y = 10**(0.61/(np.log10(x) - 0.47) + 1.18)\n",
    "ax.plot(x,y,color='gray',ls='-',label='Kewley+01')\n",
    "\n",
    "# Plot BPT\n",
    "ax.scatter(nii/ha,oiii/hb,color='k',label='Bootstraps',edgecolors='none',alpha=0.1)\n",
    "x,y,xerr,yerr = np.median(nii/ha),np.median(oiii/hb),np.std(nii/ha),np.std(oiii/hb)\n",
    "ax.errorbar(x,y,xerr=xerr,yerr=yerr,color='r',label='Average')\n",
    "ax.legend()\n",
    "\n",
    "# Axis limits\n",
    "ax.set(xlim=[1e-1,1e1],ylim=[1e-1,1e1])\n",
    "\n",
    "# Axis labels\n",
    "ax.set(xlabel=r'[NII]/H$\\alpha$',ylabel=r'[OIII]/H$\\beta$')\n",
    "\n",
    "# Axis scale\n",
    "ax.set(yscale='log',xscale='log')\n",
    "\n",
    "# Show figure\n",
    "pyplot.show()"
   ]
  },
  {
   "cell_type": "markdown",
   "id": "e3f72ad4",
   "metadata": {},
   "source": [
    "And that's all for this short IPython notebook! GELATO is designed to be run through the wrapper scripts, but hopefully this helps if you want to run in an IPython notebook or to help you understand the GELATO output."
   ]
  }
 ],
 "metadata": {
  "kernelspec": {
   "display_name": "Python 3 (ipykernel)",
   "language": "python",
   "name": "python3"
  },
  "language_info": {
   "codemirror_mode": {
    "name": "ipython",
    "version": 3
   },
   "file_extension": ".py",
   "mimetype": "text/x-python",
   "name": "python",
   "nbconvert_exporter": "python",
   "pygments_lexer": "ipython3",
   "version": "3.9.7"
  }
 },
 "nbformat": 4,
 "nbformat_minor": 5
}
