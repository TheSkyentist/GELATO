{
 "cells": [
  {
   "cell_type": "markdown",
   "id": "115b33fe",
   "metadata": {},
   "source": [
    "This is an example Jupyter notebook on using GELATO.\n",
    "----------------\n",
    "\n",
    "First let's import the packages we will need."
   ]
  },
  {
   "cell_type": "code",
   "execution_count": null,
   "id": "54f68d58",
   "metadata": {},
   "outputs": [],
   "source": [
    "# Import packages\n",
    "import gelato\n",
    "import numpy as np\n",
    "%matplotlib inline\n",
    "from matplotlib import pyplot # For plotting\n",
    "from astropy.table import Table # For loading in data"
   ]
  },
  {
   "cell_type": "markdown",
   "id": "617629da",
   "metadata": {},
   "source": [
    "We're going to be running our example on the SDSS spectrum, spec-0280-51612-0117.fits, which has a redshift of 0.245. "
   ]
  },
  {
   "cell_type": "code",
   "execution_count": null,
   "id": "91d72d8a",
   "metadata": {},
   "outputs": [],
   "source": [
    "# Let's load the spectrum\n",
    "path_spec = 'Spectra/spec-0280-51612-0117.fits'\n",
    "spectrum = Table.read(path_spec)\n",
    "\n",
    "# Start with inverse variance\n",
    "ivar = spectrum['ivar']\n",
    "good = ivar > 0 # GELATO only looks at points with nonzero weights\n",
    "\n",
    "# Finally, let's load in the data\n",
    "wavl = 10**spectrum['loglam'][good]\n",
    "flux = spectrum['flux'][good]\n",
    "ivar = ivar[good]"
   ]
  },
  {
   "cell_type": "markdown",
   "id": "ef6ac810",
   "metadata": {},
   "source": [
    "Let's go ahead and plot our spectrum to get an idea of what we're dealing with."
   ]
  },
  {
   "cell_type": "code",
   "execution_count": null,
   "id": "ff0fd13b",
   "metadata": {},
   "outputs": [],
   "source": [
    "# Create figure\n",
    "fig, ax = pyplot.subplots(figsize=(15,7))\n",
    "\n",
    "# Plot Spectrum\n",
    "sig = 3/np.sqrt(ivar) # 3 Sigma boundary\n",
    "ax.fill_between(wavl,flux-sig,flux+sig,color='gray')\n",
    "ax.step(wavl,flux,where='mid',c='k',lw=0.5)\n",
    "\n",
    "# Axis limits\n",
    "ax.set(xlim=[wavl.min(),wavl.max()],ylim=[0,flux.max()])\n",
    "\n",
    "# Axis labels\n",
    "ax.set(xlabel=r'Obs. Wavelength [\\AA]',ylabel=r'$F_\\lambda$')\n",
    "\n",
    "# Show figure\n",
    "pyplot.show()"
   ]
  },
  {
   "cell_type": "markdown",
   "id": "4aaffa71",
   "metadata": {},
   "source": [
    "The main gelato function takes three inputs.\n",
    "* The path to the parameters file.\n",
    "* The path to the spectrum.\n",
    "* The redshift of the spectrum.\n",
    "\n",
    "We already have the last two so we need to create the first."
   ]
  },
  {
   "cell_type": "code",
   "execution_count": null,
   "id": "e8ad5e9b",
   "metadata": {},
   "outputs": [],
   "source": [
    "# Path to the parameters file\n",
    "path_params = './ExampleParameters.json'"
   ]
  },
  {
   "cell_type": "markdown",
   "id": "a55b5373",
   "metadata": {},
   "source": [
    "We are now ready to run GELATO. Note, before you do this, ensure the results directory exists, either by running the Example from the README file or creating it. "
   ]
  },
  {
   "cell_type": "code",
   "execution_count": null,
   "id": "59bbef2b",
   "metadata": {
    "scrolled": false
   },
   "outputs": [],
   "source": [
    "model = gelato.gelato(path_params,path_spec,0.245)"
   ]
  },
  {
   "cell_type": "markdown",
   "id": "d9ee2209",
   "metadata": {},
   "source": [
    "The results have been saved to the \"Results/\" Directory. In addition, running GELATO returns the final model created from the fitting with the median of all the boostrap iterations set as the fitted parameters. Let's go ahead and plot the final model."
   ]
  },
  {
   "cell_type": "code",
   "execution_count": null,
   "id": "38daecb4",
   "metadata": {},
   "outputs": [],
   "source": [
    "# Create figure\n",
    "fig, ax = pyplot.subplots(figsize=(15,7))\n",
    "\n",
    "# Plot Spectrum\n",
    "ax.fill_between(wavl,flux-sig,flux+sig,color='gray')\n",
    "ax.step(wavl,flux,where='mid',c='k',lw=0.5,label='Data')\n",
    "ax.step(wavl,model(wavl),where='mid',c='r',label='Model')\n",
    "ax.legend()\n",
    "\n",
    "# Axis limits\n",
    "ax.set(xlim=[wavl.min(),wavl.max()],ylim=[0,flux.max()])\n",
    "\n",
    "# Axis labels\n",
    "ax.set(xlabel=r'Obs. Wavelength [\\AA]',ylabel=r'$F_\\lambda$')\n",
    "\n",
    "# Show figure\n",
    "pyplot.show()"
   ]
  },
  {
   "cell_type": "markdown",
   "id": "d7a3e294",
   "metadata": {},
   "source": [
    "That looks pretty good! A quick note, you can only pass the full wavelength range to the model, passing a subset will cause an error. To zoom in, use plotting controls. Now lets take a look at the results table."
   ]
  },
  {
   "cell_type": "code",
   "execution_count": null,
   "id": "66261b4c",
   "metadata": {},
   "outputs": [],
   "source": [
    "# Load results\n",
    "results = Table.read('Results/spec-0280-51612-0117-results.fits')\n",
    "print(results.colnames)"
   ]
  },
  {
   "cell_type": "markdown",
   "id": "69f1147e",
   "metadata": {},
   "source": [
    "Here we can see all of the fitted model paramters, it's certainly a handful! A quick note, many parameters here are tied together, reducing the degrees of freedom. It's also worth noting the SSP Continuum Redshift and the PL Continuum Center are not fitted, and so are constant throughout all the bootstraps. Let's go ahead and throw this object onto a BPT diagram!"
   ]
  },
  {
   "cell_type": "code",
   "execution_count": null,
   "id": "48f94a7f",
   "metadata": {},
   "outputs": [],
   "source": [
    "# Get BPT line fluxes\n",
    "oiii = results['AGN-[OIII]-5006.84-Flux']\n",
    "nii = results['AGN-[NII]-6583.45-Flux']\n",
    "ha = results['Balmer-HI-4861.28-Flux']\n",
    "hb = results['Balmer-HI-6562.79-Flux']\n",
    "\n",
    "# Create figure\n",
    "fig, ax = pyplot.subplots(figsize=(10,10))\n",
    "\n",
    "# Kewley+ Line\n",
    "x = np.logspace(-1.5,0.05,100)\n",
    "y = 10**(0.61/(np.log10(x) - 0.05) + 1.3)\n",
    "ax.plot(x,y,color='gray',ls='--',label='Kauffman+01')\n",
    "\n",
    "# Kauffman+ Line\n",
    "x = np.logspace(-1.5,0.47,100)\n",
    "y = 10**(0.61/(np.log10(x) - 0.47) + 1.18)\n",
    "ax.plot(x,y,color='gray',ls=':',label='Kewley+01')\n",
    "\n",
    "# Plot BPT\n",
    "ax.scatter(nii/ha,oiii/hb,color='k',label='Bootstraps')\n",
    "ax.errorbar(np.median(nii/ha),np.median(oiii/hb),np.std(nii/ha),np.std(oiii/hb),color='r',label='Average')\n",
    "ax.legend()\n",
    "\n",
    "# Axis limits\n",
    "ax.set(xlim=[1e-1,1e1],ylim=[1e-1,1e1])\n",
    "\n",
    "# Axis labels\n",
    "ax.set(xlabel=r'[NII]/H$\\alpha$',ylabel=r'[OIII]/H$\\beta$')\n",
    "\n",
    "# Axis scale\n",
    "ax.set(yscale='log',xscale='log')\n",
    "\n",
    "# Show figure\n",
    "pyplot.show()"
   ]
  },
  {
   "cell_type": "markdown",
   "id": "e3f72ad4",
   "metadata": {},
   "source": [
    "And that's all for this short IPython notebook! GELATO is designed to be run through the wrapper scripts, but hopefully this helps if you want to run in an IPython notebook or to help you understand the GELATO output."
   ]
  }
 ],
 "metadata": {
  "kernelspec": {
   "display_name": "Python 3",
   "language": "python",
   "name": "python3"
  },
  "language_info": {
   "codemirror_mode": {
    "name": "ipython",
    "version": 3
   },
   "file_extension": ".py",
   "mimetype": "text/x-python",
   "name": "python",
   "nbconvert_exporter": "python",
   "pygments_lexer": "ipython3",
   "version": "3.6.10"
  }
 },
 "nbformat": 4,
 "nbformat_minor": 5
}
